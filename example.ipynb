{
  "cells": [
    {
      "cell_type": "markdown",
      "metadata": {
        "id": "bnom19tk4M23"
      },
      "source": [
        "## Install and import library\n"
      ]
    },
    {
      "cell_type": "code",
      "execution_count": 1,
      "metadata": {
        "colab": {
          "base_uri": "https://localhost:8080/"
        },
        "id": "VY5jWdMM4M27",
        "outputId": "62a9a095-ab8a-4024-cc32-3ae52bb58045"
      },
      "outputs": [
        {
          "output_type": "stream",
          "name": "stdout",
          "text": [
            "Collecting git+https://github.com/DangLeUyen/DPEImputation.git\n",
            "  Cloning https://github.com/DangLeUyen/DPEImputation.git to /tmp/pip-req-build-jjffrk49\n",
            "  Running command git clone --filter=blob:none --quiet https://github.com/DangLeUyen/DPEImputation.git /tmp/pip-req-build-jjffrk49\n",
            "  Resolved https://github.com/DangLeUyen/DPEImputation.git to commit cdffc3cb76d8e4eda13bae0aa6b821bc20bbeeab\n",
            "  Preparing metadata (setup.py) ... \u001b[?25l\u001b[?25hdone\n",
            "Collecting numpy==1.26.0 (from DPEImputation==0.1.0)\n",
            "  Downloading numpy-1.26.0-cp310-cp310-manylinux_2_17_x86_64.manylinux2014_x86_64.whl.metadata (58 kB)\n",
            "\u001b[2K     \u001b[90m━━━━━━━━━━━━━━━━━━━━━━━━━━━━━━━━━━━━━━━━\u001b[0m \u001b[32m58.5/58.5 kB\u001b[0m \u001b[31m497.2 kB/s\u001b[0m eta \u001b[36m0:00:00\u001b[0m\n",
            "\u001b[?25hCollecting scikit-learn==1.4.2 (from DPEImputation==0.1.0)\n",
            "  Downloading scikit_learn-1.4.2-cp310-cp310-manylinux_2_17_x86_64.manylinux2014_x86_64.whl.metadata (11 kB)\n",
            "Requirement already satisfied: scipy>=1.6.0 in /usr/local/lib/python3.10/dist-packages (from scikit-learn==1.4.2->DPEImputation==0.1.0) (1.13.1)\n",
            "Requirement already satisfied: joblib>=1.2.0 in /usr/local/lib/python3.10/dist-packages (from scikit-learn==1.4.2->DPEImputation==0.1.0) (1.4.2)\n",
            "Requirement already satisfied: threadpoolctl>=2.0.0 in /usr/local/lib/python3.10/dist-packages (from scikit-learn==1.4.2->DPEImputation==0.1.0) (3.5.0)\n",
            "Downloading numpy-1.26.0-cp310-cp310-manylinux_2_17_x86_64.manylinux2014_x86_64.whl (18.2 MB)\n",
            "\u001b[2K   \u001b[90m━━━━━━━━━━━━━━━━━━━━━━━━━━━━━━━━━━━━━━━━\u001b[0m \u001b[32m18.2/18.2 MB\u001b[0m \u001b[31m17.5 MB/s\u001b[0m eta \u001b[36m0:00:00\u001b[0m\n",
            "\u001b[?25hDownloading scikit_learn-1.4.2-cp310-cp310-manylinux_2_17_x86_64.manylinux2014_x86_64.whl (12.1 MB)\n",
            "\u001b[2K   \u001b[90m━━━━━━━━━━━━━━━━━━━━━━━━━━━━━━━━━━━━━━━━\u001b[0m \u001b[32m12.1/12.1 MB\u001b[0m \u001b[31m22.9 MB/s\u001b[0m eta \u001b[36m0:00:00\u001b[0m\n",
            "\u001b[?25hBuilding wheels for collected packages: DPEImputation\n",
            "  Building wheel for DPEImputation (setup.py) ... \u001b[?25l\u001b[?25hdone\n",
            "  Created wheel for DPEImputation: filename=DPEImputation-0.1.0-py3-none-any.whl size=6185 sha256=6e3c0cc3cee53b13f5f88a738f4a1223fc04dc15a7474ee4ec1238d8a5587479\n",
            "  Stored in directory: /tmp/pip-ephem-wheel-cache-6f0teykd/wheels/ea/b7/79/1faeb14dc67afa9acbaa5079fd4e482ee9c17a596e9ba0f412\n",
            "Successfully built DPEImputation\n",
            "Installing collected packages: numpy, scikit-learn, DPEImputation\n",
            "  Attempting uninstall: numpy\n",
            "    Found existing installation: numpy 1.26.4\n",
            "    Uninstalling numpy-1.26.4:\n",
            "      Successfully uninstalled numpy-1.26.4\n",
            "  Attempting uninstall: scikit-learn\n",
            "    Found existing installation: scikit-learn 1.3.2\n",
            "    Uninstalling scikit-learn-1.3.2:\n",
            "      Successfully uninstalled scikit-learn-1.3.2\n",
            "Successfully installed DPEImputation-0.1.0 numpy-1.26.0 scikit-learn-1.4.2\n"
          ]
        }
      ],
      "source": [
        "!pip install git+https://github.com/DangLeUyen/DPEImputation.git"
      ]
    },
    {
      "cell_type": "code",
      "execution_count": 2,
      "metadata": {
        "id": "uYOV1AuM4M2-"
      },
      "outputs": [],
      "source": [
        "import numpy as np\n",
        "import time\n",
        "from sklearn.metrics import mean_squared_error\n",
        "from sklearn.preprocessing import StandardScaler\n",
        "from DPEImputation import DPEImputer"
      ]
    },
    {
      "cell_type": "code",
      "execution_count": 3,
      "metadata": {
        "id": "OvhVx6Ba4M2_"
      },
      "outputs": [],
      "source": [
        "def generate_randomly_missing(X , missing_rate):\n",
        "    \"\"\"\n",
        "    Creates a randomly missing mask for the input data.\n",
        "\n",
        "    Args:\n",
        "        data (np.ndarray): The input data.\n",
        "        missing_rate (float): The ratio of missing values to create.\n",
        "\n",
        "    Returns:\n",
        "        np.ndarray: An array with the same shape as `data` where missing values are marked as NaN.\n",
        "    \"\"\"\n",
        "    # Create a copy of the input array to avoid modifying the original data\n",
        "    X_copy=np.copy(X)\n",
        "    # Calculate the total number of elements in the array\n",
        "    total_elements = X_copy.size\n",
        "    # Determine the number of elements to be replaced with NaN\n",
        "    num_missing = round(missing_rate * total_elements)\n",
        "    # Generate random indices where NaN will be introduced\n",
        "    missing_indices = np.random.randint(0, total_elements, num_missing)\n",
        "    # Flatten the array to apply NaN values\n",
        "    X_copy_flat = X_copy.flatten()\n",
        "    # Assign NaN to the selected indices\n",
        "    X_copy_flat[missing_indices] = np.nan\n",
        "    # Reshape the array back to its original shape\n",
        "    X_nan = X_copy_flat.reshape(X_copy.shape)\n",
        "\n",
        "    return X_nan\n",
        "\n",
        "def normalize_data(X):\n",
        "  scaler = StandardScaler()\n",
        "  scaler.fit(X)\n",
        "  return scaler.transform(X)"
      ]
    },
    {
      "cell_type": "markdown",
      "metadata": {
        "id": "Pue86bDy4M2_"
      },
      "source": [
        "### Generating dataset with label"
      ]
    },
    {
      "cell_type": "code",
      "execution_count": 11,
      "metadata": {
        "id": "ZFlYNJbJ4M3A"
      },
      "outputs": [],
      "source": [
        "#create a sample data\n",
        "X1 = np.random.randint(0, 100, size=(1000, 50)).astype('float64')\n",
        "# Generate random labels (e.g., binary classification)\n",
        "y = np.random.randint(0, 2, size=X1.shape[0])\n",
        "\n",
        "X1 = normalize_data(X1)\n",
        "#create missingness on data\n",
        "missing_rate = 0.5\n",
        "missing_X1 = generate_randomly_missing(X1, missing_rate)\n"
      ]
    },
    {
      "cell_type": "code",
      "execution_count": 12,
      "metadata": {
        "colab": {
          "base_uri": "https://localhost:8080/"
        },
        "id": "jYPrskoN4M3A",
        "outputId": "df2fff55-9308-4e16-e3f0-91585dd32ed0"
      },
      "outputs": [
        {
          "output_type": "stream",
          "name": "stdout",
          "text": [
            "Imputation done after: 19.387824296951294 (seconds) and have Rmse = 0.4060268734865917\n"
          ]
        }
      ],
      "source": [
        "imputer1 = DPEImputer()\n",
        "start = time.time()\n",
        "\n",
        "X1_imputed = imputer1.fit(missing_X1, y).transform(missing_X1, y)\n",
        "\n",
        "rmse1 = mean_squared_error(X1, X1_imputed)\n",
        "duration1 = time.time() - start\n",
        "print(\"Imputation done after: {} (seconds) and have Rmse = {}\".format(duration1, rmse1))"
      ]
    },
    {
      "cell_type": "markdown",
      "metadata": {
        "id": "aNZ-og5e4M3B"
      },
      "source": [
        "### Generating dataset without label"
      ]
    },
    {
      "cell_type": "code",
      "execution_count": 6,
      "metadata": {
        "id": "wNRVdbpo4M3B"
      },
      "outputs": [],
      "source": [
        "#create a sample data\n",
        "X2 = np.random.randint(0, 100, size=(1000, 50)).astype('float64')\n",
        "\n",
        "#create missingness on data\n",
        "X2 = normalize_data(X2)\n",
        "missing_rate = 0.5\n",
        "missing_X2 = generate_randomly_missing(X2, missing_rate)\n"
      ]
    },
    {
      "cell_type": "code",
      "execution_count": 7,
      "metadata": {
        "colab": {
          "base_uri": "https://localhost:8080/"
        },
        "id": "17ZSn3x04M3B",
        "outputId": "20222e40-87f5-4103-b4e1-e6083657f6d2"
      },
      "outputs": [
        {
          "output_type": "stream",
          "name": "stdout",
          "text": [
            "Imputation done after: 15.959425210952759 (seconds) and have Rmse2 = 0.3973782389663099\n"
          ]
        }
      ],
      "source": [
        "imputer2 = DPEImputer()\n",
        "start = time.time()\n",
        "X2_imputed = imputer2.fit_transform(missing_X2)\n",
        "rmse2 = mean_squared_error(X2, X2_imputed)\n",
        "duration2 = time.time() - start\n",
        "print(\"Imputation done after: {} (seconds) and have Rmse2 = {}\".format(duration2, rmse2))"
      ]
    },
    {
      "cell_type": "markdown",
      "metadata": {
        "id": "4EP0nJ5W4M3C"
      },
      "source": [
        "### Using digits dataset (with label)"
      ]
    },
    {
      "cell_type": "code",
      "execution_count": 8,
      "metadata": {
        "colab": {
          "base_uri": "https://localhost:8080/"
        },
        "id": "mTGh7Q7i4M3C",
        "outputId": "a54a1ee8-afd1-404c-c9f1-ff75078ed7ca"
      },
      "outputs": [
        {
          "output_type": "stream",
          "name": "stdout",
          "text": [
            "(1797, 64)\n",
            "(1797, 54)\n"
          ]
        }
      ],
      "source": [
        "from sklearn.datasets import load_digits\n",
        "\n",
        "# Tải dữ liệu digits\n",
        "digits = load_digits()\n",
        "\n",
        "# Lấy dữ liệu đặc trưng và nhãn\n",
        "X = digits.data\n",
        "y = digits.target\n",
        "print(X.shape)\n",
        "rmid = np.where(sum(X!=0)<10)\n",
        "X = np.delete(X, rmid,axis = 1)\n",
        "print(X.shape)\n",
        "X = normalize_data(X)"
      ]
    },
    {
      "cell_type": "code",
      "execution_count": 9,
      "metadata": {
        "colab": {
          "base_uri": "https://localhost:8080/"
        },
        "id": "6sF8lOoc4M3C",
        "outputId": "13acc39f-81b6-44ed-b809-148a636e9c4f"
      },
      "outputs": [
        {
          "output_type": "stream",
          "name": "stdout",
          "text": [
            "Imputation done after: 26.447102069854736 (seconds) and have Rmse = 0.20217014812196196\n"
          ]
        }
      ],
      "source": [
        "digits_missing_data = generate_randomly_missing(X , missing_rate)\n",
        "\n",
        "start = time.time()\n",
        "dpei = DPEImputer()\n",
        "digits_imputed = dpei.fit(digits_missing_data, y, window_size=5).transform(digits_missing_data, y)\n",
        "rmse3 = mean_squared_error(X, digits_imputed)\n",
        "duration3 = time.time() - start\n",
        "print(\"Imputation done after: {} (seconds) and have Rmse = {}\".format(duration3, rmse3))"
      ]
    }
  ],
  "metadata": {
    "kernelspec": {
      "display_name": "Python 3",
      "language": "python",
      "name": "python3"
    },
    "language_info": {
      "codemirror_mode": {
        "name": "ipython",
        "version": 3
      },
      "file_extension": ".py",
      "mimetype": "text/x-python",
      "name": "python",
      "nbconvert_exporter": "python",
      "pygments_lexer": "ipython3",
      "version": "3.10.10"
    },
    "colab": {
      "provenance": []
    }
  },
  "nbformat": 4,
  "nbformat_minor": 0
}