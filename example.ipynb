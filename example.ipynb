{
 "cells": [
  {
   "cell_type": "markdown",
   "metadata": {},
   "source": [
    "## Install and import library\n"
   ]
  },
  {
   "cell_type": "code",
   "execution_count": 2,
   "metadata": {},
   "outputs": [
    {
     "name": "stdout",
     "output_type": "stream",
     "text": [
      "Collecting git+https://github.com/DangLeUyen/DPEImputation.git\n",
      "  Cloning https://github.com/DangLeUyen/DPEImputation.git to /private/var/folders/42/h0csfrkn2fvfq63027xhz7d40000gn/T/pip-req-build-q7ob8ddg\n",
      "  Running command git clone --filter=blob:none --quiet https://github.com/DangLeUyen/DPEImputation.git /private/var/folders/42/h0csfrkn2fvfq63027xhz7d40000gn/T/pip-req-build-q7ob8ddg\n",
      "  Resolved https://github.com/DangLeUyen/DPEImputation.git to commit eded69d53263a6e155b32c30d48b2f7329459fc3\n",
      "  Preparing metadata (setup.py) ... \u001b[?25ldone\n",
      "\u001b[?25hRequirement already satisfied: numpy==1.23.5 in /Library/Frameworks/Python.framework/Versions/3.10/lib/python3.10/site-packages (from DPEImputation==0.1.0) (1.23.5)\n",
      "Requirement already satisfied: scikit-learn==1.4.2 in /Library/Frameworks/Python.framework/Versions/3.10/lib/python3.10/site-packages (from DPEImputation==0.1.0) (1.4.2)\n",
      "Requirement already satisfied: scipy>=1.6.0 in /Library/Frameworks/Python.framework/Versions/3.10/lib/python3.10/site-packages (from scikit-learn==1.4.2->DPEImputation==0.1.0) (1.11.4)\n",
      "Requirement already satisfied: joblib>=1.2.0 in /Library/Frameworks/Python.framework/Versions/3.10/lib/python3.10/site-packages (from scikit-learn==1.4.2->DPEImputation==0.1.0) (1.4.2)\n",
      "Requirement already satisfied: threadpoolctl>=2.0.0 in /Library/Frameworks/Python.framework/Versions/3.10/lib/python3.10/site-packages (from scikit-learn==1.4.2->DPEImputation==0.1.0) (3.5.0)\n",
      "Building wheels for collected packages: DPEImputation\n",
      "  Building wheel for DPEImputation (setup.py) ... \u001b[?25ldone\n",
      "\u001b[?25h  Created wheel for DPEImputation: filename=DPEImputation-0.1.0-py3-none-any.whl size=6386 sha256=edeed749abc86d9fde58145f538a0ae866427d0218072737c29f5eb846991a5d\n",
      "  Stored in directory: /private/var/folders/42/h0csfrkn2fvfq63027xhz7d40000gn/T/pip-ephem-wheel-cache-2208plv4/wheels/ea/b7/79/1faeb14dc67afa9acbaa5079fd4e482ee9c17a596e9ba0f412\n",
      "Successfully built DPEImputation\n",
      "Installing collected packages: DPEImputation\n",
      "Successfully installed DPEImputation-0.1.0\n",
      "\n",
      "\u001b[1m[\u001b[0m\u001b[34;49mnotice\u001b[0m\u001b[1;39;49m]\u001b[0m\u001b[39;49m A new release of pip is available: \u001b[0m\u001b[31;49m24.0\u001b[0m\u001b[39;49m -> \u001b[0m\u001b[32;49m24.2\u001b[0m\n",
      "\u001b[1m[\u001b[0m\u001b[34;49mnotice\u001b[0m\u001b[1;39;49m]\u001b[0m\u001b[39;49m To update, run: \u001b[0m\u001b[32;49mpip install --upgrade pip\u001b[0m\n"
     ]
    }
   ],
   "source": [
    "!pip install git+https://github.com/DangLeUyen/DPEImputation.git"
   ]
  },
  {
   "cell_type": "code",
   "execution_count": 3,
   "metadata": {},
   "outputs": [],
   "source": [
    "import numpy as np\n",
    "import time\n",
    "from sklearn.metrics import mean_squared_error\n",
    "from sklearn.preprocessing import StandardScaler"
   ]
  },
  {
   "cell_type": "code",
   "execution_count": 5,
   "metadata": {},
   "outputs": [],
   "source": [
    "from DPEImputation import DPEImputer\n"
   ]
  },
  {
   "cell_type": "code",
   "execution_count": 6,
   "metadata": {},
   "outputs": [],
   "source": [
    "def generate_randomly_missing(X , missing_rate):\n",
    "    \"\"\"\n",
    "    Creates a randomly missing mask for the input data.\n",
    "\n",
    "    Args:\n",
    "        data (np.ndarray): The input data.\n",
    "        missing_rate (float): The ratio of missing values to create.\n",
    "\n",
    "    Returns:\n",
    "        np.ndarray: An array with the same shape as `data` where missing values are marked as NaN.\n",
    "    \"\"\"\n",
    "    \n",
    "    non_missing = [0]\n",
    "    X_copy=np.copy(X)\n",
    "    \n",
    "    X_non_missing_col = X_copy[:, non_missing]\n",
    "    X1_missing = X_copy[:, [i for i in range(X.shape[1]) if i not in non_missing]]\n",
    "\n",
    "    X_non_missing_row = X1_missing[non_missing]\n",
    "    X_missing = X1_missing[len(non_missing):(X.shape[0]+1)]\n",
    "    XmShape = X_missing.shape\n",
    "    na_id = np.random.randint(0, X_missing.size, round(missing_rate * X_missing.size))\n",
    "    X_nan = X_missing.flatten()\n",
    "    X_nan[na_id] = np.nan\n",
    "    X_nan = X_nan.reshape(XmShape)\n",
    "\n",
    "    X1_nan = np.vstack((X_non_missing_row, X_nan))\n",
    "    X_nan = np.hstack((X_non_missing_col, X1_nan))\n",
    "    \n",
    "    return X_nan\n",
    "\n",
    "def normalize_data(X):\n",
    "  scaler = StandardScaler()\n",
    "  scaler.fit(X)\n",
    "  return scaler.transform(X)"
   ]
  },
  {
   "cell_type": "markdown",
   "metadata": {},
   "source": [
    "### Generating dataset with label"
   ]
  },
  {
   "cell_type": "code",
   "execution_count": 18,
   "metadata": {},
   "outputs": [],
   "source": [
    "#create a sample data\n",
    "X1 = np.random.randint(0, 100, size=(1000, 50)).astype('float64')\n",
    "# Generate random labels (e.g., binary classification)\n",
    "y = np.random.randint(0, 2, size=X1.shape[0])\n",
    "\n",
    "X1 = normalize_data(X1)\n",
    "#create missingness on data\n",
    "missing_rate = 0.5\n",
    "missing_X1 = generate_randomly_missing(X1, missing_rate)\n"
   ]
  },
  {
   "cell_type": "code",
   "execution_count": 19,
   "metadata": {},
   "outputs": [
    {
     "name": "stdout",
     "output_type": "stream",
     "text": [
      "Imputation done after: 12.21154522895813 (seconds) and have Rmse = 0.39080723212150814\n"
     ]
    }
   ],
   "source": [
    "imputer1 = DPEImputer()\n",
    "start = time.time()\n",
    "\n",
    "X1_imputed = imputer1.fit(missing_X1, y, window_size=7).transform(missing_X1, y)\n",
    "\n",
    "rmse1 = mean_squared_error(X1, X1_imputed)\n",
    "duration1 = time.time() - start\n",
    "print(\"Imputation done after: {} (seconds) and have Rmse = {}\".format(duration1, rmse1))"
   ]
  },
  {
   "cell_type": "markdown",
   "metadata": {},
   "source": [
    "### Generating dataset without label"
   ]
  },
  {
   "cell_type": "code",
   "execution_count": 22,
   "metadata": {},
   "outputs": [],
   "source": [
    "#create a sample data\n",
    "X2 = np.random.randint(0, 100, size=(1000, 50)).astype('float64')\n",
    "\n",
    "#create missingness on data\n",
    "X2 = normalize_data(X2)\n",
    "missing_rate = 0.5\n",
    "missing_X2 = generate_randomly_missing(X2, missing_rate)\n"
   ]
  },
  {
   "cell_type": "code",
   "execution_count": 23,
   "metadata": {},
   "outputs": [
    {
     "name": "stdout",
     "output_type": "stream",
     "text": [
      "Imputation done after: 8.763720989227295 (seconds) and have Rmse2 = 0.38951171266514684\n"
     ]
    }
   ],
   "source": [
    "imputer2 = DPEImputer()\n",
    "start = time.time()\n",
    "X2_imputed = imputer2.fit(missing_X2, window_size=5).transform(missing_X2)\n",
    "rmse2 = mean_squared_error(X2, X2_imputed)\n",
    "duration2 = time.time() - start\n",
    "print(\"Imputation done after: {} (seconds) and have Rmse2 = {}\".format(duration2, rmse2))"
   ]
  },
  {
   "cell_type": "markdown",
   "metadata": {},
   "source": [
    "### Using digits dataset (with label)"
   ]
  },
  {
   "cell_type": "code",
   "execution_count": 24,
   "metadata": {},
   "outputs": [
    {
     "name": "stdout",
     "output_type": "stream",
     "text": [
      "(1797, 64)\n",
      "(1797, 54)\n"
     ]
    }
   ],
   "source": [
    "from sklearn.datasets import load_digits\n",
    "\n",
    "# Tải dữ liệu digits\n",
    "digits = load_digits()\n",
    "\n",
    "# Lấy dữ liệu đặc trưng và nhãn\n",
    "X = digits.data\n",
    "y = digits.target\n",
    "print(X.shape)\n",
    "rmid = np.where(sum(X!=0)<10)\n",
    "X = np.delete(X, rmid,axis = 1)\n",
    "print(X.shape)\n",
    "X = normalize_data(X)"
   ]
  },
  {
   "cell_type": "code",
   "execution_count": 26,
   "metadata": {},
   "outputs": [
    {
     "name": "stdout",
     "output_type": "stream",
     "text": [
      "Imputation done after: 18.910322189331055 (seconds) and have Rmse = 0.19511689582472674\n"
     ]
    }
   ],
   "source": [
    "digits_missing_data = generate_randomly_missing(X , missing_rate)\n",
    "\n",
    "start = time.time()\n",
    "dpei = DPEImputer()\n",
    "digits_imputed = dpei.fit(digits_missing_data, y, window_size=5).transform(digits_missing_data, y)\n",
    "rmse3 = mean_squared_error(X, digits_imputed)\n",
    "duration3 = time.time() - start\n",
    "print(\"Imputation done after: {} (seconds) and have Rmse = {}\".format(duration3, rmse3))"
   ]
  }
 ],
 "metadata": {
  "kernelspec": {
   "display_name": "Python 3",
   "language": "python",
   "name": "python3"
  },
  "language_info": {
   "codemirror_mode": {
    "name": "ipython",
    "version": 3
   },
   "file_extension": ".py",
   "mimetype": "text/x-python",
   "name": "python",
   "nbconvert_exporter": "python",
   "pygments_lexer": "ipython3",
   "version": "3.10.10"
  }
 },
 "nbformat": 4,
 "nbformat_minor": 2
}
